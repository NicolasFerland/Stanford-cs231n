{
 "cells": [
  {
   "cell_type": "markdown",
   "metadata": {},
   "source": [
    "# Softmax exercise\n",
    "\n",
    "*Complete and hand in this completed worksheet (including its outputs and any supporting code outside of the worksheet) with your assignment submission. For more details see the [assignments page](http://vision.stanford.edu/teaching/cs231n/assignments.html) on the course website.*\n",
    "\n",
    "This exercise is analogous to the SVM exercise. You will:\n",
    "\n",
    "- implement a fully-vectorized **loss function** for the Softmax classifier\n",
    "- implement the fully-vectorized expression for its **analytic gradient**\n",
    "- **check your implementation** with numerical gradient\n",
    "- use a validation set to **tune the learning rate and regularization** strength\n",
    "- **optimize** the loss function with **SGD**\n",
    "- **visualize** the final learned weights\n"
   ]
  },
  {
   "cell_type": "code",
   "execution_count": 1,
   "metadata": {
    "collapsed": false
   },
   "outputs": [],
   "source": [
    "import random\n",
    "import numpy as np\n",
    "from cs231n.data_utils import load_CIFAR10\n",
    "import matplotlib.pyplot as plt\n",
    "\n",
    "from __future__ import print_function\n",
    "\n",
    "%matplotlib inline\n",
    "plt.rcParams['figure.figsize'] = (10.0, 8.0) # set default size of plots\n",
    "plt.rcParams['image.interpolation'] = 'nearest'\n",
    "plt.rcParams['image.cmap'] = 'gray'\n",
    "\n",
    "# for auto-reloading extenrnal modules\n",
    "# see http://stackoverflow.com/questions/1907993/autoreload-of-modules-in-ipython\n",
    "%load_ext autoreload\n",
    "%autoreload 2"
   ]
  },
  {
   "cell_type": "code",
   "execution_count": 2,
   "metadata": {
    "collapsed": false
   },
   "outputs": [
    {
     "name": "stdout",
     "output_type": "stream",
     "text": [
      "Train data shape:  (49000, 3073)\n",
      "Train labels shape:  (49000,)\n",
      "Validation data shape:  (1000, 3073)\n",
      "Validation labels shape:  (1000,)\n",
      "Test data shape:  (1000, 3073)\n",
      "Test labels shape:  (1000,)\n",
      "dev data shape:  (500, 3073)\n",
      "dev labels shape:  (500,)\n"
     ]
    }
   ],
   "source": [
    "def get_CIFAR10_data(num_training=49000, num_validation=1000, num_test=1000, num_dev=500):\n",
    "    \"\"\"\n",
    "    Load the CIFAR-10 dataset from disk and perform preprocessing to prepare\n",
    "    it for the linear classifier. These are the same steps as we used for the\n",
    "    SVM, but condensed to a single function.  \n",
    "    \"\"\"\n",
    "    # Load the raw CIFAR-10 data\n",
    "    cifar10_dir = 'cs231n/datasets/cifar-10-batches-py'\n",
    "    X_train, y_train, X_test, y_test = load_CIFAR10(cifar10_dir)\n",
    "    \n",
    "    # subsample the data\n",
    "    mask = list(range(num_training, num_training + num_validation))\n",
    "    X_val = X_train[mask]\n",
    "    y_val = y_train[mask]\n",
    "    mask = list(range(num_training))\n",
    "    X_train = X_train[mask]\n",
    "    y_train = y_train[mask]\n",
    "    mask = list(range(num_test))\n",
    "    X_test = X_test[mask]\n",
    "    y_test = y_test[mask]\n",
    "    mask = np.random.choice(num_training, num_dev, replace=False)\n",
    "    X_dev = X_train[mask]\n",
    "    y_dev = y_train[mask]\n",
    "    \n",
    "    # Preprocessing: reshape the image data into rows\n",
    "    X_train = np.reshape(X_train, (X_train.shape[0], -1))\n",
    "    X_val = np.reshape(X_val, (X_val.shape[0], -1))\n",
    "    X_test = np.reshape(X_test, (X_test.shape[0], -1))\n",
    "    X_dev = np.reshape(X_dev, (X_dev.shape[0], -1))\n",
    "    \n",
    "    # Normalize the data: subtract the mean image\n",
    "    mean_image = np.mean(X_train, axis = 0)\n",
    "    X_train -= mean_image\n",
    "    X_val -= mean_image\n",
    "    X_test -= mean_image\n",
    "    X_dev -= mean_image\n",
    "    \n",
    "    # add bias dimension and transform into columns\n",
    "    X_train = np.hstack([X_train, np.ones((X_train.shape[0], 1))])\n",
    "    X_val = np.hstack([X_val, np.ones((X_val.shape[0], 1))])\n",
    "    X_test = np.hstack([X_test, np.ones((X_test.shape[0], 1))])\n",
    "    X_dev = np.hstack([X_dev, np.ones((X_dev.shape[0], 1))])\n",
    "    \n",
    "    return X_train, y_train, X_val, y_val, X_test, y_test, X_dev, y_dev\n",
    "\n",
    "\n",
    "# Invoke the above function to get our data.\n",
    "X_train, y_train, X_val, y_val, X_test, y_test, X_dev, y_dev = get_CIFAR10_data()\n",
    "print('Train data shape: ', X_train.shape)\n",
    "print('Train labels shape: ', y_train.shape)\n",
    "print('Validation data shape: ', X_val.shape)\n",
    "print('Validation labels shape: ', y_val.shape)\n",
    "print('Test data shape: ', X_test.shape)\n",
    "print('Test labels shape: ', y_test.shape)\n",
    "print('dev data shape: ', X_dev.shape)\n",
    "print('dev labels shape: ', y_dev.shape)"
   ]
  },
  {
   "cell_type": "markdown",
   "metadata": {},
   "source": [
    "## Softmax Classifier\n",
    "\n",
    "Your code for this section will all be written inside **cs231n/classifiers/softmax.py**. \n"
   ]
  },
  {
   "cell_type": "code",
   "execution_count": 5,
   "metadata": {
    "collapsed": false
   },
   "outputs": [
    {
     "name": "stdout",
     "output_type": "stream",
     "text": [
      "loss: 2.321507\n",
      "sanity check: 2.302585\n"
     ]
    }
   ],
   "source": [
    "# First implement the naive softmax loss function with nested loops.\n",
    "# Open the file cs231n/classifiers/softmax.py and implement the\n",
    "# softmax_loss_naive function.\n",
    "\n",
    "from cs231n.classifiers.softmax import softmax_loss_naive\n",
    "import time\n",
    "\n",
    "# Generate a random softmax weight matrix and use it to compute the loss.\n",
    "W = np.random.randn(3073, 10) * 0.0001\n",
    "loss, grad = softmax_loss_naive(W, X_dev, y_dev, 0.0)\n",
    "\n",
    "# As a rough sanity check, our loss should be something close to -log(0.1).\n",
    "print('loss: %f' % loss)\n",
    "print('sanity check: %f' % (-np.log(0.1)))"
   ]
  },
  {
   "cell_type": "markdown",
   "metadata": {},
   "source": [
    "## Inline Question 1:\n",
    "Why do we expect our loss to be close to -log(0.1)? Explain briefly.**\n",
    "\n",
    "**Your answer:** *Because initially, our weight are random so all classes should have a probability around 0.1*\n"
   ]
  },
  {
   "cell_type": "code",
   "execution_count": 6,
   "metadata": {
    "collapsed": false
   },
   "outputs": [
    {
     "name": "stdout",
     "output_type": "stream",
     "text": [
      "numerical: 0.355010 analytic: 0.355010, relative error: 1.107724e-07\n",
      "numerical: 1.327743 analytic: 1.327743, relative error: 4.167470e-08\n",
      "numerical: 0.554493 analytic: 0.554493, relative error: 1.785870e-08\n",
      "numerical: -0.734947 analytic: -0.734947, relative error: 7.780890e-08\n",
      "numerical: 0.324737 analytic: 0.324737, relative error: 2.533330e-07\n",
      "numerical: -1.208943 analytic: -1.208943, relative error: 4.369089e-08\n",
      "numerical: 0.771826 analytic: 0.771826, relative error: 9.450205e-08\n",
      "numerical: 0.392214 analytic: 0.392214, relative error: 1.405347e-07\n",
      "numerical: -2.390885 analytic: -2.390885, relative error: 4.762105e-10\n",
      "numerical: -0.950546 analytic: -0.950546, relative error: 3.255938e-08\n",
      "numerical: -1.276412 analytic: -1.276412, relative error: 2.363890e-08\n",
      "numerical: 0.889949 analytic: 0.889949, relative error: 7.918133e-08\n",
      "numerical: 2.043946 analytic: 2.043945, relative error: 5.159221e-08\n",
      "numerical: -0.569802 analytic: -0.569802, relative error: 2.070260e-08\n",
      "numerical: -1.147130 analytic: -1.147130, relative error: 2.166355e-08\n",
      "numerical: -1.714443 analytic: -1.714444, relative error: 6.342246e-08\n",
      "numerical: -0.702275 analytic: -0.702275, relative error: 5.019902e-08\n",
      "numerical: -0.567162 analytic: -0.567163, relative error: 6.547389e-08\n",
      "numerical: 0.680405 analytic: 0.680405, relative error: 1.834807e-08\n",
      "numerical: -0.236860 analytic: -0.236860, relative error: 5.597763e-08\n"
     ]
    }
   ],
   "source": [
    "# Complete the implementation of softmax_loss_naive and implement a (naive)\n",
    "# version of the gradient that uses nested loops.\n",
    "loss, grad = softmax_loss_naive(W, X_dev, y_dev, 0.0)\n",
    "\n",
    "# As we did for the SVM, use numeric gradient checking as a debugging tool.\n",
    "# The numeric gradient should be close to the analytic gradient.\n",
    "from cs231n.gradient_check import grad_check_sparse\n",
    "f = lambda w: softmax_loss_naive(w, X_dev, y_dev, 0.0)[0]\n",
    "grad_numerical = grad_check_sparse(f, W, grad, 10)\n",
    "\n",
    "# similar to SVM case, do another gradient check with regularization\n",
    "loss, grad = softmax_loss_naive(W, X_dev, y_dev, 5e1)\n",
    "f = lambda w: softmax_loss_naive(w, X_dev, y_dev, 5e1)[0]\n",
    "grad_numerical = grad_check_sparse(f, W, grad, 10)"
   ]
  },
  {
   "cell_type": "code",
   "execution_count": 8,
   "metadata": {
    "collapsed": false
   },
   "outputs": [
    {
     "name": "stdout",
     "output_type": "stream",
     "text": [
      "naive loss: 2.321507e+00 computed in 0.126812s\n",
      "vectorized loss: 2.321507e+00 computed in 0.004011s\n",
      "Loss difference: 0.000000\n",
      "Gradient difference: 0.000000\n"
     ]
    }
   ],
   "source": [
    "# Now that we have a naive implementation of the softmax loss function and its gradient,\n",
    "# implement a vectorized version in softmax_loss_vectorized.\n",
    "# The two versions should compute the same results, but the vectorized version should be\n",
    "# much faster.\n",
    "tic = time.time()\n",
    "loss_naive, grad_naive = softmax_loss_naive(W, X_dev, y_dev, 0.000005)\n",
    "toc = time.time()\n",
    "print('naive loss: %e computed in %fs' % (loss_naive, toc - tic))\n",
    "\n",
    "from cs231n.classifiers.softmax import softmax_loss_vectorized\n",
    "tic = time.time()\n",
    "loss_vectorized, grad_vectorized = softmax_loss_vectorized(W, X_dev, y_dev, 0.000005)\n",
    "toc = time.time()\n",
    "print('vectorized loss: %e computed in %fs' % (loss_vectorized, toc - tic))\n",
    "\n",
    "# As we did for the SVM, we use the Frobenius norm to compare the two versions\n",
    "# of the gradient.\n",
    "grad_difference = np.linalg.norm(grad_naive - grad_vectorized, ord='fro')\n",
    "print('Loss difference: %f' % np.abs(loss_naive - loss_vectorized))\n",
    "print('Gradient difference: %f' % grad_difference)"
   ]
  },
  {
   "cell_type": "code",
   "execution_count": 9,
   "metadata": {
    "collapsed": false
   },
   "outputs": [
    {
     "name": "stdout",
     "output_type": "stream",
     "text": [
      "lr 1.000000e-07 reg 2.500000e+04 train accuracy: 0.325224 val accuracy: 0.332000\n",
      "lr 1.000000e-07 reg 5.000000e+04 train accuracy: 0.300980 val accuracy: 0.310000\n",
      "lr 5.000000e-07 reg 2.500000e+04 train accuracy: 0.325000 val accuracy: 0.333000\n",
      "lr 5.000000e-07 reg 5.000000e+04 train accuracy: 0.296122 val accuracy: 0.310000\n",
      "best validation accuracy achieved during cross-validation: 0.333000\n"
     ]
    }
   ],
   "source": [
    "# Use the validation set to tune hyperparameters (regularization strength and\n",
    "# learning rate). You should experiment with different ranges for the learning\n",
    "# rates and regularization strengths; if you are careful you should be able to\n",
    "# get a classification accuracy of over 0.35 on the validation set.\n",
    "from cs231n.classifiers import Softmax\n",
    "results = {}\n",
    "best_val = -1\n",
    "best_softmax = None\n",
    "learning_rates = [1e-7, 5e-7]\n",
    "regularization_strengths = [2.5e4, 5e4]\n",
    "\n",
    "################################################################################\n",
    "# TODO:                                                                        #\n",
    "# Use the validation set to set the learning rate and regularization strength. #\n",
    "# This should be identical to the validation that you did for the SVM; save    #\n",
    "# the best trained softmax classifer in best_softmax.                          #\n",
    "################################################################################\n",
    "for learning_rate in learning_rates:\n",
    "    for reg in regularization_strengths:\n",
    "        softmax = Softmax()\n",
    "        softmax.train(X_train, y_train, learning_rate=learning_rate, reg=reg,\n",
    "                      num_iters=1500, verbose=False)\n",
    "        y_val_pred = softmax.predict(X_val)\n",
    "        acc_val = np.mean(y_val == y_val_pred)\n",
    "        acc_train = np.mean(y_train == softmax.predict(X_train))\n",
    "        results[(learning_rate, reg)] = (acc_train,acc_val)\n",
    "        if (acc_val > best_val):\n",
    "            best_val = acc_val\n",
    "            best_softmax = softmax\n",
    "################################################################################\n",
    "#                              END OF YOUR CODE                                #\n",
    "################################################################################\n",
    "    \n",
    "# Print out results.\n",
    "for lr, reg in sorted(results):\n",
    "    train_accuracy, val_accuracy = results[(lr, reg)]\n",
    "    print('lr %e reg %e train accuracy: %f val accuracy: %f' % (\n",
    "                lr, reg, train_accuracy, val_accuracy))\n",
    "    \n",
    "print('best validation accuracy achieved during cross-validation: %f' % best_val)"
   ]
  },
  {
   "cell_type": "code",
   "execution_count": 12,
   "metadata": {
    "collapsed": false
   },
   "outputs": [
    {
     "name": "stdout",
     "output_type": "stream",
     "text": [
      "lr 1.000000e-07 reg 2.500000e+04 train accuracy: 0.325224 val accuracy: 0.332000\n",
      "lr 1.000000e-07 reg 5.000000e+04 train accuracy: 0.300980 val accuracy: 0.310000\n",
      "lr 5.000000e-07 reg 2.500000e+04 train accuracy: 0.325000 val accuracy: 0.333000\n",
      "lr 5.000000e-07 reg 5.000000e+04 train accuracy: 0.296122 val accuracy: 0.310000\n",
      "lr 9.118820e-04 reg 5.459815e+01 train accuracy: 0.179531 val accuracy: 0.197000\n",
      "lr 9.118820e-04 reg 6.668633e+01 train accuracy: 0.208959 val accuracy: 0.231000\n",
      "lr 9.118820e-04 reg 8.145087e+01 train accuracy: 0.152245 val accuracy: 0.140000\n",
      "lr 9.118820e-04 reg 9.948432e+01 train accuracy: 0.163857 val accuracy: 0.166000\n",
      "lr 9.118820e-04 reg 1.215104e+02 train accuracy: 0.200857 val accuracy: 0.220000\n",
      "lr 1.113775e-03 reg 5.459815e+01 train accuracy: 0.141102 val accuracy: 0.136000\n",
      "lr 1.113775e-03 reg 6.668633e+01 train accuracy: 0.187367 val accuracy: 0.176000\n",
      "lr 1.113775e-03 reg 8.145087e+01 train accuracy: 0.216449 val accuracy: 0.220000\n",
      "lr 1.113775e-03 reg 9.948432e+01 train accuracy: 0.178143 val accuracy: 0.178000\n",
      "lr 1.113775e-03 reg 1.215104e+02 train accuracy: 0.172408 val accuracy: 0.180000\n",
      "lr 1.360368e-03 reg 5.459815e+01 train accuracy: 0.196878 val accuracy: 0.196000\n",
      "lr 1.360368e-03 reg 6.668633e+01 train accuracy: 0.124082 val accuracy: 0.122000\n",
      "lr 1.360368e-03 reg 8.145087e+01 train accuracy: 0.176592 val accuracy: 0.178000\n",
      "lr 1.360368e-03 reg 9.948432e+01 train accuracy: 0.170163 val accuracy: 0.175000\n",
      "lr 1.360368e-03 reg 1.215104e+02 train accuracy: 0.155490 val accuracy: 0.153000\n",
      "lr 1.661557e-03 reg 5.459815e+01 train accuracy: 0.145980 val accuracy: 0.152000\n",
      "lr 1.661557e-03 reg 6.668633e+01 train accuracy: 0.132327 val accuracy: 0.144000\n",
      "lr 1.661557e-03 reg 8.145087e+01 train accuracy: 0.119429 val accuracy: 0.112000\n",
      "lr 1.661557e-03 reg 9.948432e+01 train accuracy: 0.190490 val accuracy: 0.193000\n",
      "lr 1.661557e-03 reg 1.215104e+02 train accuracy: 0.148184 val accuracy: 0.151000\n",
      "lr 2.029431e-03 reg 5.459815e+01 train accuracy: 0.197673 val accuracy: 0.184000\n",
      "lr 2.029431e-03 reg 6.668633e+01 train accuracy: 0.167041 val accuracy: 0.171000\n",
      "lr 2.029431e-03 reg 8.145087e+01 train accuracy: 0.173286 val accuracy: 0.162000\n",
      "lr 2.029431e-03 reg 9.948432e+01 train accuracy: 0.119041 val accuracy: 0.104000\n",
      "lr 2.029431e-03 reg 1.215104e+02 train accuracy: 0.119347 val accuracy: 0.135000\n",
      "best validation accuracy achieved during cross-validation: 0.333000\n"
     ]
    }
   ],
   "source": [
    "for lr in np.arange(-7,-6,0.2):\n",
    "    learning_rate = np.exp(lr)\n",
    "    for reg in np.arange(4,5,0.2):\n",
    "        reg = np.exp(reg)\n",
    "        softmax = Softmax()\n",
    "        softmax.train(X_train, y_train, learning_rate=learning_rate, reg=reg,\n",
    "                      num_iters=1500, verbose=False)\n",
    "        y_val_pred = softmax.predict(X_val)\n",
    "        acc_val = np.mean(y_val == y_val_pred)\n",
    "        acc_train = np.mean(y_train == softmax.predict(X_train))\n",
    "        results[(learning_rate, reg)] = (acc_train,acc_val)\n",
    "        if (acc_val > best_val):\n",
    "            best_val = acc_val\n",
    "            best_softmax = softmax\n",
    "            \n",
    "# Print out results.\n",
    "for lr, reg in sorted(results):\n",
    "    train_accuracy, val_accuracy = results[(lr, reg)]\n",
    "    print('lr %e reg %e train accuracy: %f val accuracy: %f' % (\n",
    "                lr, reg, train_accuracy, val_accuracy))\n",
    "    \n",
    "print('best validation accuracy achieved during cross-validation: %f' % best_val)"
   ]
  },
  {
   "cell_type": "code",
   "execution_count": 13,
   "metadata": {
    "collapsed": false
   },
   "outputs": [
    {
     "name": "stdout",
     "output_type": "stream",
     "text": [
      "softmax on raw pixels final test set accuracy: 0.338000\n"
     ]
    }
   ],
   "source": [
    "# evaluate on test set\n",
    "# Evaluate the best softmax on test set\n",
    "y_test_pred = best_softmax.predict(X_test)\n",
    "test_accuracy = np.mean(y_test == y_test_pred)\n",
    "print('softmax on raw pixels final test set accuracy: %f' % (test_accuracy, ))"
   ]
  },
  {
   "cell_type": "code",
   "execution_count": 14,
   "metadata": {
    "collapsed": false
   },
   "outputs": [
    {
     "data": {
      "image/png": "[encoded data removed]",
      "text/plain": [
       "<matplotlib.figure.Figure at 0x22e8b73ef98>"
      ]
     },
     "metadata": {},
     "output_type": "display_data"
    }
   ],
   "source": [
    "# Visualize the learned weights for each class\n",
    "w = best_softmax.W[:-1,:] # strip out the bias\n",
    "w = w.reshape(32, 32, 3, 10)\n",
    "\n",
    "w_min, w_max = np.min(w), np.max(w)\n",
    "\n",
    "classes = ['plane', 'car', 'bird', 'cat', 'deer', 'dog', 'frog', 'horse', 'ship', 'truck']\n",
    "for i in range(10):\n",
    "    plt.subplot(2, 5, i + 1)\n",
    "    \n",
    "    # Rescale the weights to be between 0 and 255\n",
    "    wimg = 255.0 * (w[:, :, :, i].squeeze() - w_min) / (w_max - w_min)\n",
    "    plt.imshow(wimg.astype('uint8'))\n",
    "    plt.axis('off')\n",
    "    plt.title(classes[i])"
   ]
  },
  {
   "cell_type": "code",
   "execution_count": null,
   "metadata": {
    "collapsed": true
   },
   "outputs": [],
   "source": []
  }
 ],
 "metadata": {
  "kernelspec": {
   "display_name": "Python [default]",
   "language": "python",
   "name": "python3"
  },
  "language_info": {
   "codemirror_mode": {
    "name": "ipython",
    "version": 3
   },
   "file_extension": ".py",
   "mimetype": "text/x-python",
   "name": "python",
   "nbconvert_exporter": "python",
   "pygments_lexer": "ipython3",
   "version": "3.6.0"
  }
 },
 "nbformat": 4,
 "nbformat_minor": 0
}
