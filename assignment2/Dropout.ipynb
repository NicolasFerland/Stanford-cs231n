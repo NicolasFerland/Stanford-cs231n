{
 "cells": [
  {
   "cell_type": "markdown",
   "metadata": {
    "deletable": true,
    "editable": true
   },
   "source": [
    "# Dropout\n",
    "Dropout [1] is a technique for regularizing neural networks by randomly setting some features to zero during the forward pass. In this exercise you will implement a dropout layer and modify your fully-connected network to optionally use dropout.\n",
    "\n",
    "[1] Geoffrey E. Hinton et al, \"Improving neural networks by preventing co-adaptation of feature detectors\", arXiv 2012"
   ]
  },
  {
   "cell_type": "code",
   "execution_count": 1,
   "metadata": {
    "collapsed": false,
    "deletable": true,
    "editable": true
   },
   "outputs": [
    {
     "name": "stdout",
     "output_type": "stream",
     "text": [
      "run the following from the cs231n directory and try again:\n",
      "python setup.py build_ext --inplace\n",
      "You may also need to restart your iPython kernel\n"
     ]
    }
   ],
   "source": [
    "# As usual, a bit of setup\n",
    "from __future__ import print_function\n",
    "import time\n",
    "import numpy as np\n",
    "import matplotlib.pyplot as plt\n",
    "from cs231n.classifiers.fc_net import *\n",
    "from cs231n.data_utils import get_CIFAR10_data\n",
    "from cs231n.gradient_check import eval_numerical_gradient, eval_numerical_gradient_array\n",
    "from cs231n.solver import Solver\n",
    "\n",
    "%matplotlib inline\n",
    "plt.rcParams['figure.figsize'] = (10.0, 8.0) # set default size of plots\n",
    "plt.rcParams['image.interpolation'] = 'nearest'\n",
    "plt.rcParams['image.cmap'] = 'gray'\n",
    "\n",
    "# for auto-reloading external modules\n",
    "# see http://stackoverflow.com/questions/1907993/autoreload-of-modules-in-ipython\n",
    "%load_ext autoreload\n",
    "%autoreload 2\n",
    "\n",
    "def rel_error(x, y):\n",
    "  \"\"\" returns relative error \"\"\"\n",
    "  return np.max(np.abs(x - y) / (np.maximum(1e-8, np.abs(x) + np.abs(y))))"
   ]
  },
  {
   "cell_type": "code",
   "execution_count": 2,
   "metadata": {
    "collapsed": false,
    "deletable": true,
    "editable": true
   },
   "outputs": [
    {
     "name": "stdout",
     "output_type": "stream",
     "text": [
      "X_train:  (49000, 3, 32, 32)\n",
      "y_train:  (49000,)\n",
      "X_val:  (1000, 3, 32, 32)\n",
      "y_val:  (1000,)\n",
      "X_test:  (1000, 3, 32, 32)\n",
      "y_test:  (1000,)\n"
     ]
    }
   ],
   "source": [
    "# Load the (preprocessed) CIFAR10 data.\n",
    "\n",
    "data = get_CIFAR10_data()\n",
    "for k, v in data.items():\n",
    "  print('%s: ' % k, v.shape)"
   ]
  },
  {
   "cell_type": "markdown",
   "metadata": {
    "deletable": true,
    "editable": true
   },
   "source": [
    "# Dropout forward pass\n",
    "In the file `cs231n/layers.py`, implement the forward pass for dropout. Since dropout behaves differently during training and testing, make sure to implement the operation for both modes.\n",
    "\n",
    "Once you have done so, run the cell below to test your implementation."
   ]
  },
  {
   "cell_type": "code",
   "execution_count": 3,
   "metadata": {
    "collapsed": false,
    "deletable": true,
    "editable": true
   },
   "outputs": [
    {
     "name": "stdout",
     "output_type": "stream",
     "text": [
      "Running tests with p =  0.3\n",
      "Mean of input:  10.0002078785\n",
      "Mean of train-time output:  10.0350727971\n",
      "Mean of test-time output:  10.0002078785\n",
      "Fraction of train-time output set to zero:  0.699124\n",
      "Fraction of test-time output set to zero:  0.0\n",
      "\n",
      "Running tests with p =  0.6\n",
      "Mean of input:  10.0002078785\n",
      "Mean of train-time output:  9.97691075877\n",
      "Mean of test-time output:  10.0002078785\n",
      "Fraction of train-time output set to zero:  0.401368\n",
      "Fraction of test-time output set to zero:  0.0\n",
      "\n",
      "Running tests with p =  0.75\n",
      "Mean of input:  10.0002078785\n",
      "Mean of train-time output:  9.99306858826\n",
      "Mean of test-time output:  10.0002078785\n",
      "Fraction of train-time output set to zero:  0.250496\n",
      "Fraction of test-time output set to zero:  0.0\n",
      "\n"
     ]
    }
   ],
   "source": [
    "np.random.seed(231)\n",
    "x = np.random.randn(500, 500) + 10\n",
    "\n",
    "for p in [0.3, 0.6, 0.75]:\n",
    "  out, _ = dropout_forward(x, {'mode': 'train', 'p': p})\n",
    "  out_test, _ = dropout_forward(x, {'mode': 'test', 'p': p})\n",
    "\n",
    "  print('Running tests with p = ', p)\n",
    "  print('Mean of input: ', x.mean())\n",
    "  print('Mean of train-time output: ', out.mean())\n",
    "  print('Mean of test-time output: ', out_test.mean())\n",
    "  print('Fraction of train-time output set to zero: ', (out == 0).mean())\n",
    "  print('Fraction of test-time output set to zero: ', (out_test == 0).mean())\n",
    "  print()"
   ]
  },
  {
   "cell_type": "markdown",
   "metadata": {
    "deletable": true,
    "editable": true
   },
   "source": [
    "# Dropout backward pass\n",
    "In the file `cs231n/layers.py`, implement the backward pass for dropout. After doing so, run the following cell to numerically gradient-check your implementation."
   ]
  },
  {
   "cell_type": "code",
   "execution_count": 4,
   "metadata": {
    "collapsed": false,
    "deletable": true,
    "editable": true
   },
   "outputs": [
    {
     "name": "stdout",
     "output_type": "stream",
     "text": [
      "dx relative error:  5.44561271827e-11\n"
     ]
    }
   ],
   "source": [
    "np.random.seed(231)\n",
    "x = np.random.randn(10, 10) + 10\n",
    "dout = np.random.randn(*x.shape)\n",
    "\n",
    "dropout_param = {'mode': 'train', 'p': 0.8, 'seed': 123}\n",
    "out, cache = dropout_forward(x, dropout_param)\n",
    "dx = dropout_backward(dout, cache)\n",
    "dx_num = eval_numerical_gradient_array(lambda xx: dropout_forward(xx, dropout_param)[0], x, dout)\n",
    "\n",
    "print('dx relative error: ', rel_error(dx, dx_num))"
   ]
  },
  {
   "cell_type": "markdown",
   "metadata": {
    "deletable": true,
    "editable": true
   },
   "source": [
    "# Fully-connected nets with Dropout\n",
    "In the file `cs231n/classifiers/fc_net.py`, modify your implementation to use dropout. Specificially, if the constructor the the net receives a nonzero value for the `dropout` parameter, then the net should add dropout immediately after every ReLU nonlinearity. After doing so, run the following to numerically gradient-check your implementation."
   ]
  },
  {
   "cell_type": "code",
   "execution_count": 5,
   "metadata": {
    "collapsed": false,
    "deletable": true,
    "editable": true
   },
   "outputs": [
    {
     "name": "stdout",
     "output_type": "stream",
     "text": [
      "Running check with dropout =  0\n",
      "Initial loss:  2.30047908977\n",
      "W1 relative error: 1.48e-07\n",
      "W2 relative error: 2.21e-05\n",
      "W3 relative error: 3.53e-07\n",
      "b1 relative error: 5.38e-09\n",
      "b2 relative error: 2.09e-09\n",
      "b3 relative error: 5.80e-11\n",
      "\n",
      "Running check with dropout =  0.25\n",
      "Initial loss:  2.29243250883\n",
      "W1 relative error: 2.74e-08\n",
      "W2 relative error: 2.98e-09\n",
      "W3 relative error: 4.29e-09\n",
      "b1 relative error: 7.78e-10\n",
      "b2 relative error: 3.36e-10\n",
      "b3 relative error: 1.65e-10\n",
      "\n",
      "Running check with dropout =  0.5\n",
      "Initial loss:  2.30427592208\n",
      "W1 relative error: 3.11e-07\n",
      "W2 relative error: 1.84e-08\n",
      "W3 relative error: 5.35e-08\n",
      "b1 relative error: 2.58e-08\n",
      "b2 relative error: 2.99e-09\n",
      "b3 relative error: 1.13e-10\n",
      "\n"
     ]
    }
   ],
   "source": [
    "np.random.seed(231)\n",
    "N, D, H1, H2, C = 2, 15, 20, 30, 10\n",
    "X = np.random.randn(N, D)\n",
    "y = np.random.randint(C, size=(N,))\n",
    "\n",
    "for dropout in [0, 0.25, 0.5]:\n",
    "  print('Running check with dropout = ', dropout)\n",
    "  model = FullyConnectedNet([H1, H2], input_dim=D, num_classes=C,\n",
    "                            weight_scale=5e-2, dtype=np.float64,\n",
    "                            dropout=dropout, seed=123)\n",
    "\n",
    "  loss, grads = model.loss(X, y)\n",
    "  print('Initial loss: ', loss)\n",
    "\n",
    "  for name in sorted(grads):\n",
    "    f = lambda _: model.loss(X, y)[0]\n",
    "    grad_num = eval_numerical_gradient(f, model.params[name], verbose=False, h=1e-5)\n",
    "    print('%s relative error: %.2e' % (name, rel_error(grad_num, grads[name])))\n",
    "  print()"
   ]
  },
  {
   "cell_type": "markdown",
   "metadata": {
    "deletable": true,
    "editable": true
   },
   "source": [
    "# Regularization experiment\n",
    "As an experiment, we will train a pair of two-layer networks on 500 training examples: one will use no dropout, and one will use a dropout probability of 0.75. We will then visualize the training and validation accuracies of the two networks over time."
   ]
  },
  {
   "cell_type": "code",
   "execution_count": 6,
   "metadata": {
    "collapsed": false,
    "deletable": true,
    "editable": true,
    "scrolled": false
   },
   "outputs": [
    {
     "name": "stdout",
     "output_type": "stream",
     "text": [
      "0\n",
      "(Iteration 1 / 125) loss: 7.856643\n",
      "(Epoch 0 / 25) train acc: 0.260000; val_acc: 0.184000\n",
      "(Epoch 1 / 25) train acc: 0.404000; val_acc: 0.259000\n",
      "(Epoch 2 / 25) train acc: 0.468000; val_acc: 0.248000\n",
      "(Epoch 3 / 25) train acc: 0.526000; val_acc: 0.247000\n",
      "(Epoch 4 / 25) train acc: 0.646000; val_acc: 0.273000\n",
      "(Epoch 5 / 25) train acc: 0.686000; val_acc: 0.259000\n",
      "(Epoch 6 / 25) train acc: 0.698000; val_acc: 0.261000\n",
      "(Epoch 7 / 25) train acc: 0.762000; val_acc: 0.257000\n",
      "(Epoch 8 / 25) train acc: 0.836000; val_acc: 0.261000\n",
      "(Epoch 9 / 25) train acc: 0.864000; val_acc: 0.277000\n",
      "(Epoch 10 / 25) train acc: 0.904000; val_acc: 0.285000\n",
      "(Epoch 11 / 25) train acc: 0.910000; val_acc: 0.280000\n",
      "(Epoch 12 / 25) train acc: 0.930000; val_acc: 0.313000\n",
      "(Epoch 13 / 25) train acc: 0.940000; val_acc: 0.303000\n",
      "(Epoch 14 / 25) train acc: 0.974000; val_acc: 0.294000\n",
      "(Epoch 15 / 25) train acc: 0.956000; val_acc: 0.301000\n",
      "(Epoch 16 / 25) train acc: 0.984000; val_acc: 0.314000\n",
      "(Epoch 17 / 25) train acc: 0.984000; val_acc: 0.309000\n",
      "(Epoch 18 / 25) train acc: 1.000000; val_acc: 0.310000\n",
      "(Epoch 19 / 25) train acc: 0.996000; val_acc: 0.304000\n",
      "(Epoch 20 / 25) train acc: 0.998000; val_acc: 0.307000\n",
      "(Iteration 101 / 125) loss: 0.000479\n",
      "(Epoch 21 / 25) train acc: 1.000000; val_acc: 0.307000\n",
      "(Epoch 22 / 25) train acc: 0.994000; val_acc: 0.308000\n",
      "(Epoch 23 / 25) train acc: 0.996000; val_acc: 0.304000\n",
      "(Epoch 24 / 25) train acc: 0.998000; val_acc: 0.307000\n",
      "(Epoch 25 / 25) train acc: 0.998000; val_acc: 0.315000\n",
      "0.75\n",
      "(Iteration 1 / 125) loss: 11.299055\n",
      "(Epoch 0 / 25) train acc: 0.234000; val_acc: 0.187000\n",
      "(Epoch 1 / 25) train acc: 0.382000; val_acc: 0.228000\n",
      "(Epoch 2 / 25) train acc: 0.490000; val_acc: 0.247000\n",
      "(Epoch 3 / 25) train acc: 0.534000; val_acc: 0.228000\n",
      "(Epoch 4 / 25) train acc: 0.648000; val_acc: 0.298000\n",
      "(Epoch 5 / 25) train acc: 0.676000; val_acc: 0.316000\n",
      "(Epoch 6 / 25) train acc: 0.752000; val_acc: 0.285000\n",
      "(Epoch 7 / 25) train acc: 0.774000; val_acc: 0.252000\n",
      "(Epoch 8 / 25) train acc: 0.816000; val_acc: 0.287000\n",
      "(Epoch 9 / 25) train acc: 0.844000; val_acc: 0.326000\n",
      "(Epoch 10 / 25) train acc: 0.864000; val_acc: 0.312000\n",
      "(Epoch 11 / 25) train acc: 0.920000; val_acc: 0.297000\n",
      "(Epoch 12 / 25) train acc: 0.914000; val_acc: 0.283000\n",
      "(Epoch 13 / 25) train acc: 0.960000; val_acc: 0.307000\n",
      "(Epoch 14 / 25) train acc: 0.960000; val_acc: 0.295000\n",
      "(Epoch 15 / 25) train acc: 0.958000; val_acc: 0.284000\n",
      "(Epoch 16 / 25) train acc: 0.988000; val_acc: 0.331000\n",
      "(Epoch 17 / 25) train acc: 0.960000; val_acc: 0.298000\n",
      "(Epoch 18 / 25) train acc: 0.974000; val_acc: 0.320000\n",
      "(Epoch 19 / 25) train acc: 0.984000; val_acc: 0.320000\n",
      "(Epoch 20 / 25) train acc: 0.992000; val_acc: 0.322000\n",
      "(Iteration 101 / 125) loss: 0.114000\n",
      "(Epoch 21 / 25) train acc: 0.990000; val_acc: 0.320000\n",
      "(Epoch 22 / 25) train acc: 0.996000; val_acc: 0.301000\n",
      "(Epoch 23 / 25) train acc: 0.994000; val_acc: 0.298000\n",
      "(Epoch 24 / 25) train acc: 0.998000; val_acc: 0.315000\n",
      "(Epoch 25 / 25) train acc: 1.000000; val_acc: 0.314000\n"
     ]
    }
   ],
   "source": [
    "# Train two identical nets, one with dropout and one without\n",
    "np.random.seed(231)\n",
    "num_train = 500\n",
    "small_data = {\n",
    "  'X_train': data['X_train'][:num_train],\n",
    "  'y_train': data['y_train'][:num_train],\n",
    "  'X_val': data['X_val'],\n",
    "  'y_val': data['y_val'],\n",
    "}\n",
    "\n",
    "solvers = {}\n",
    "dropout_choices = [0, 0.75]\n",
    "for dropout in dropout_choices:\n",
    "  model = FullyConnectedNet([500], dropout=dropout)\n",
    "  print(dropout)\n",
    "\n",
    "  solver = Solver(model, small_data,\n",
    "                  num_epochs=25, batch_size=100,\n",
    "                  update_rule='adam',\n",
    "                  optim_config={\n",
    "                    'learning_rate': 5e-4,\n",
    "                  },\n",
    "                  verbose=True, print_every=100)\n",
    "  solver.train()\n",
    "  solvers[dropout] = solver"
   ]
  },
  {
   "cell_type": "code",
   "execution_count": 7,
   "metadata": {
    "collapsed": false,
    "deletable": true,
    "editable": true
   },
   "outputs": [
    {
     "data": {
      "image/png": "[encoded data removed]",
      "text/plain": [
       "<matplotlib.figure.Figure at 0x239d3b15518>"
      ]
     },
     "metadata": {},
     "output_type": "display_data"
    }
   ],
   "source": [
    "# Plot train and validation accuracies of the two models\n",
    "\n",
    "train_accs = []\n",
    "val_accs = []\n",
    "for dropout in dropout_choices:\n",
    "  solver = solvers[dropout]\n",
    "  train_accs.append(solver.train_acc_history[-1])\n",
    "  val_accs.append(solver.val_acc_history[-1])\n",
    "\n",
    "plt.subplot(3, 1, 1)\n",
    "for dropout in dropout_choices:\n",
    "  plt.plot(solvers[dropout].train_acc_history, 'o', label='%.2f dropout' % dropout)\n",
    "plt.title('Train accuracy')\n",
    "plt.xlabel('Epoch')\n",
    "plt.ylabel('Accuracy')\n",
    "plt.legend(ncol=2, loc='lower right')\n",
    "  \n",
    "plt.subplot(3, 1, 2)\n",
    "for dropout in dropout_choices:\n",
    "  plt.plot(solvers[dropout].val_acc_history, 'o', label='%.2f dropout' % dropout)\n",
    "plt.title('Val accuracy')\n",
    "plt.xlabel('Epoch')\n",
    "plt.ylabel('Accuracy')\n",
    "plt.legend(ncol=2, loc='lower right')\n",
    "\n",
    "plt.gcf().set_size_inches(15, 15)\n",
    "plt.show()"
   ]
  },
  {
   "cell_type": "code",
   "execution_count": 8,
   "metadata": {
    "collapsed": false
   },
   "outputs": [
    {
     "name": "stdout",
     "output_type": "stream",
     "text": [
      "0\n",
      "(Iteration 1 / 250) loss: 7.856643\n",
      "(Epoch 0 / 50) train acc: 0.260000; val_acc: 0.184000\n",
      "(Epoch 1 / 50) train acc: 0.404000; val_acc: 0.259000\n",
      "(Epoch 2 / 50) train acc: 0.468000; val_acc: 0.248000\n",
      "(Epoch 3 / 50) train acc: 0.526000; val_acc: 0.247000\n",
      "(Epoch 4 / 50) train acc: 0.646000; val_acc: 0.273000\n",
      "(Epoch 5 / 50) train acc: 0.686000; val_acc: 0.259000\n",
      "(Epoch 6 / 50) train acc: 0.698000; val_acc: 0.261000\n",
      "(Epoch 7 / 50) train acc: 0.762000; val_acc: 0.257000\n",
      "(Epoch 8 / 50) train acc: 0.836000; val_acc: 0.261000\n",
      "(Epoch 9 / 50) train acc: 0.864000; val_acc: 0.277000\n",
      "(Epoch 10 / 50) train acc: 0.904000; val_acc: 0.285000\n",
      "(Epoch 11 / 50) train acc: 0.910000; val_acc: 0.280000\n",
      "(Epoch 12 / 50) train acc: 0.930000; val_acc: 0.313000\n",
      "(Epoch 13 / 50) train acc: 0.940000; val_acc: 0.303000\n",
      "(Epoch 14 / 50) train acc: 0.974000; val_acc: 0.294000\n",
      "(Epoch 15 / 50) train acc: 0.956000; val_acc: 0.301000\n",
      "(Epoch 16 / 50) train acc: 0.984000; val_acc: 0.314000\n",
      "(Epoch 17 / 50) train acc: 0.984000; val_acc: 0.309000\n",
      "(Epoch 18 / 50) train acc: 1.000000; val_acc: 0.310000\n",
      "(Epoch 19 / 50) train acc: 0.996000; val_acc: 0.304000\n",
      "(Epoch 20 / 50) train acc: 0.998000; val_acc: 0.307000\n",
      "(Iteration 101 / 250) loss: 0.000479\n",
      "(Epoch 21 / 50) train acc: 1.000000; val_acc: 0.307000\n",
      "(Epoch 22 / 50) train acc: 0.994000; val_acc: 0.308000\n",
      "(Epoch 23 / 50) train acc: 0.996000; val_acc: 0.304000\n",
      "(Epoch 24 / 50) train acc: 0.998000; val_acc: 0.307000\n",
      "(Epoch 25 / 50) train acc: 0.998000; val_acc: 0.315000\n",
      "(Epoch 26 / 50) train acc: 0.998000; val_acc: 0.308000\n",
      "(Epoch 27 / 50) train acc: 1.000000; val_acc: 0.317000\n",
      "(Epoch 28 / 50) train acc: 1.000000; val_acc: 0.316000\n",
      "(Epoch 29 / 50) train acc: 1.000000; val_acc: 0.323000\n",
      "(Epoch 30 / 50) train acc: 1.000000; val_acc: 0.322000\n",
      "(Epoch 31 / 50) train acc: 1.000000; val_acc: 0.319000\n",
      "(Epoch 32 / 50) train acc: 1.000000; val_acc: 0.321000\n",
      "(Epoch 33 / 50) train acc: 1.000000; val_acc: 0.321000\n",
      "(Epoch 34 / 50) train acc: 1.000000; val_acc: 0.322000\n",
      "(Epoch 35 / 50) train acc: 1.000000; val_acc: 0.322000\n",
      "(Epoch 36 / 50) train acc: 1.000000; val_acc: 0.322000\n",
      "(Epoch 37 / 50) train acc: 1.000000; val_acc: 0.322000\n",
      "(Epoch 38 / 50) train acc: 1.000000; val_acc: 0.322000\n",
      "(Epoch 39 / 50) train acc: 1.000000; val_acc: 0.322000\n",
      "(Epoch 40 / 50) train acc: 1.000000; val_acc: 0.322000\n",
      "(Iteration 201 / 250) loss: 0.000133\n",
      "(Epoch 41 / 50) train acc: 1.000000; val_acc: 0.323000\n",
      "(Epoch 42 / 50) train acc: 1.000000; val_acc: 0.323000\n",
      "(Epoch 43 / 50) train acc: 1.000000; val_acc: 0.323000\n",
      "(Epoch 44 / 50) train acc: 1.000000; val_acc: 0.322000\n",
      "(Epoch 45 / 50) train acc: 1.000000; val_acc: 0.322000\n",
      "(Epoch 46 / 50) train acc: 1.000000; val_acc: 0.322000\n",
      "(Epoch 47 / 50) train acc: 1.000000; val_acc: 0.322000\n",
      "(Epoch 48 / 50) train acc: 1.000000; val_acc: 0.322000\n",
      "(Epoch 49 / 50) train acc: 1.000000; val_acc: 0.322000\n",
      "(Epoch 50 / 50) train acc: 1.000000; val_acc: 0.322000\n",
      "0.2\n",
      "(Iteration 1 / 250) loss: 19.483397\n",
      "(Epoch 0 / 50) train acc: 0.244000; val_acc: 0.205000\n",
      "(Epoch 1 / 50) train acc: 0.352000; val_acc: 0.232000\n",
      "(Epoch 2 / 50) train acc: 0.422000; val_acc: 0.274000\n",
      "(Epoch 3 / 50) train acc: 0.486000; val_acc: 0.315000\n",
      "(Epoch 4 / 50) train acc: 0.514000; val_acc: 0.291000\n",
      "(Epoch 5 / 50) train acc: 0.532000; val_acc: 0.289000\n",
      "(Epoch 6 / 50) train acc: 0.598000; val_acc: 0.325000\n",
      "(Epoch 7 / 50) train acc: 0.648000; val_acc: 0.316000\n",
      "(Epoch 8 / 50) train acc: 0.684000; val_acc: 0.345000\n",
      "(Epoch 9 / 50) train acc: 0.658000; val_acc: 0.334000\n",
      "(Epoch 10 / 50) train acc: 0.688000; val_acc: 0.329000\n",
      "(Epoch 11 / 50) train acc: 0.734000; val_acc: 0.335000\n",
      "(Epoch 12 / 50) train acc: 0.728000; val_acc: 0.352000\n",
      "(Epoch 13 / 50) train acc: 0.714000; val_acc: 0.325000\n",
      "(Epoch 14 / 50) train acc: 0.776000; val_acc: 0.352000\n",
      "(Epoch 15 / 50) train acc: 0.768000; val_acc: 0.324000\n",
      "(Epoch 16 / 50) train acc: 0.790000; val_acc: 0.330000\n",
      "(Epoch 17 / 50) train acc: 0.808000; val_acc: 0.342000\n",
      "(Epoch 18 / 50) train acc: 0.834000; val_acc: 0.358000\n",
      "(Epoch 19 / 50) train acc: 0.828000; val_acc: 0.339000\n",
      "(Epoch 20 / 50) train acc: 0.850000; val_acc: 0.337000\n",
      "(Iteration 101 / 250) loss: 9.754639\n",
      "(Epoch 21 / 50) train acc: 0.844000; val_acc: 0.329000\n",
      "(Epoch 22 / 50) train acc: 0.878000; val_acc: 0.340000\n",
      "(Epoch 23 / 50) train acc: 0.858000; val_acc: 0.334000\n",
      "(Epoch 24 / 50) train acc: 0.898000; val_acc: 0.314000\n",
      "(Epoch 25 / 50) train acc: 0.906000; val_acc: 0.320000\n",
      "(Epoch 26 / 50) train acc: 0.924000; val_acc: 0.341000\n",
      "(Epoch 27 / 50) train acc: 0.932000; val_acc: 0.338000\n",
      "(Epoch 28 / 50) train acc: 0.938000; val_acc: 0.340000\n",
      "(Epoch 29 / 50) train acc: 0.944000; val_acc: 0.318000\n",
      "(Epoch 30 / 50) train acc: 0.934000; val_acc: 0.309000\n",
      "(Epoch 31 / 50) train acc: 0.950000; val_acc: 0.347000\n",
      "(Epoch 32 / 50) train acc: 0.950000; val_acc: 0.353000\n",
      "(Epoch 33 / 50) train acc: 0.964000; val_acc: 0.345000\n",
      "(Epoch 34 / 50) train acc: 0.972000; val_acc: 0.333000\n",
      "(Epoch 35 / 50) train acc: 0.964000; val_acc: 0.320000\n",
      "(Epoch 36 / 50) train acc: 0.966000; val_acc: 0.324000\n",
      "(Epoch 37 / 50) train acc: 0.962000; val_acc: 0.330000\n",
      "(Epoch 38 / 50) train acc: 0.954000; val_acc: 0.335000\n",
      "(Epoch 39 / 50) train acc: 0.962000; val_acc: 0.341000\n",
      "(Epoch 40 / 50) train acc: 0.976000; val_acc: 0.322000\n",
      "(Iteration 201 / 250) loss: 2.402631\n",
      "(Epoch 41 / 50) train acc: 0.976000; val_acc: 0.308000\n",
      "(Epoch 42 / 50) train acc: 0.972000; val_acc: 0.318000\n",
      "(Epoch 43 / 50) train acc: 0.970000; val_acc: 0.313000\n",
      "(Epoch 44 / 50) train acc: 0.972000; val_acc: 0.324000\n",
      "(Epoch 45 / 50) train acc: 0.978000; val_acc: 0.344000\n",
      "(Epoch 46 / 50) train acc: 0.978000; val_acc: 0.327000\n",
      "(Epoch 47 / 50) train acc: 0.976000; val_acc: 0.337000\n",
      "(Epoch 48 / 50) train acc: 0.980000; val_acc: 0.320000\n",
      "(Epoch 49 / 50) train acc: 0.984000; val_acc: 0.323000\n",
      "(Epoch 50 / 50) train acc: 0.980000; val_acc: 0.331000\n",
      "0.5\n",
      "(Iteration 1 / 250) loss: 11.772207\n",
      "(Epoch 0 / 50) train acc: 0.246000; val_acc: 0.179000\n",
      "(Epoch 1 / 50) train acc: 0.338000; val_acc: 0.228000\n",
      "(Epoch 2 / 50) train acc: 0.456000; val_acc: 0.251000\n",
      "(Epoch 3 / 50) train acc: 0.486000; val_acc: 0.276000\n",
      "(Epoch 4 / 50) train acc: 0.482000; val_acc: 0.241000\n",
      "(Epoch 5 / 50) train acc: 0.592000; val_acc: 0.261000\n",
      "(Epoch 6 / 50) train acc: 0.630000; val_acc: 0.238000\n",
      "(Epoch 7 / 50) train acc: 0.714000; val_acc: 0.293000\n",
      "(Epoch 8 / 50) train acc: 0.770000; val_acc: 0.292000\n",
      "(Epoch 9 / 50) train acc: 0.772000; val_acc: 0.302000\n",
      "(Epoch 10 / 50) train acc: 0.834000; val_acc: 0.333000\n",
      "(Epoch 11 / 50) train acc: 0.882000; val_acc: 0.318000\n",
      "(Epoch 12 / 50) train acc: 0.876000; val_acc: 0.282000\n",
      "(Epoch 13 / 50) train acc: 0.884000; val_acc: 0.285000\n",
      "(Epoch 14 / 50) train acc: 0.928000; val_acc: 0.319000\n",
      "(Epoch 15 / 50) train acc: 0.938000; val_acc: 0.296000\n",
      "(Epoch 16 / 50) train acc: 0.950000; val_acc: 0.284000\n",
      "(Epoch 17 / 50) train acc: 0.954000; val_acc: 0.298000\n",
      "(Epoch 18 / 50) train acc: 0.942000; val_acc: 0.308000\n",
      "(Epoch 19 / 50) train acc: 0.962000; val_acc: 0.308000\n",
      "(Epoch 20 / 50) train acc: 0.972000; val_acc: 0.322000\n",
      "(Iteration 101 / 250) loss: 1.915200\n",
      "(Epoch 21 / 50) train acc: 0.976000; val_acc: 0.313000\n",
      "(Epoch 22 / 50) train acc: 0.972000; val_acc: 0.321000\n",
      "(Epoch 23 / 50) train acc: 0.986000; val_acc: 0.320000\n",
      "(Epoch 24 / 50) train acc: 0.982000; val_acc: 0.315000\n",
      "(Epoch 25 / 50) train acc: 0.990000; val_acc: 0.311000\n",
      "(Epoch 26 / 50) train acc: 0.982000; val_acc: 0.305000\n",
      "(Epoch 27 / 50) train acc: 0.992000; val_acc: 0.316000\n",
      "(Epoch 28 / 50) train acc: 0.988000; val_acc: 0.302000\n",
      "(Epoch 29 / 50) train acc: 0.992000; val_acc: 0.294000\n",
      "(Epoch 30 / 50) train acc: 0.994000; val_acc: 0.305000\n",
      "(Epoch 31 / 50) train acc: 0.992000; val_acc: 0.307000\n",
      "(Epoch 32 / 50) train acc: 1.000000; val_acc: 0.296000\n",
      "(Epoch 33 / 50) train acc: 0.994000; val_acc: 0.300000\n",
      "(Epoch 34 / 50) train acc: 0.998000; val_acc: 0.318000\n",
      "(Epoch 35 / 50) train acc: 1.000000; val_acc: 0.337000\n",
      "(Epoch 36 / 50) train acc: 1.000000; val_acc: 0.312000\n",
      "(Epoch 37 / 50) train acc: 0.996000; val_acc: 0.307000\n",
      "(Epoch 38 / 50) train acc: 0.998000; val_acc: 0.308000\n",
      "(Epoch 39 / 50) train acc: 0.998000; val_acc: 0.305000\n",
      "(Epoch 40 / 50) train acc: 0.998000; val_acc: 0.317000\n",
      "(Iteration 201 / 250) loss: 0.235365\n",
      "(Epoch 41 / 50) train acc: 0.998000; val_acc: 0.314000\n",
      "(Epoch 42 / 50) train acc: 1.000000; val_acc: 0.322000\n",
      "(Epoch 43 / 50) train acc: 0.998000; val_acc: 0.322000\n",
      "(Epoch 44 / 50) train acc: 1.000000; val_acc: 0.313000\n",
      "(Epoch 45 / 50) train acc: 1.000000; val_acc: 0.313000\n",
      "(Epoch 46 / 50) train acc: 1.000000; val_acc: 0.320000\n",
      "(Epoch 47 / 50) train acc: 1.000000; val_acc: 0.314000\n",
      "(Epoch 48 / 50) train acc: 1.000000; val_acc: 0.306000\n",
      "(Epoch 49 / 50) train acc: 0.998000; val_acc: 0.307000\n",
      "(Epoch 50 / 50) train acc: 1.000000; val_acc: 0.303000\n"
     ]
    },
    {
     "data": {
      "image/png": "[encoded data removed]",
      "text/plain": [
       "<matplotlib.figure.Figure at 0x239817ca9e8>"
      ]
     },
     "metadata": {},
     "output_type": "display_data"
    }
   ],
   "source": [
    "# I'm surprised that the train accuracy is not worse with dropout, and that the val accuracy oscillates so much and is not very\n",
    "# good. I'm testing it with more dropout.\n",
    "\n",
    "np.random.seed(231)\n",
    "num_train = 500\n",
    "small_data = {\n",
    "  'X_train': data['X_train'][:num_train],\n",
    "  'y_train': data['y_train'][:num_train],\n",
    "  'X_val': data['X_val'],\n",
    "  'y_val': data['y_val'],\n",
    "}\n",
    "\n",
    "solvers = {}\n",
    "dropout_choices = [0, 0.2, 0.5]\n",
    "for dropout in dropout_choices:\n",
    "  model = FullyConnectedNet([500], dropout=dropout)\n",
    "  print(dropout)\n",
    "\n",
    "  solver = Solver(model, small_data,\n",
    "                  num_epochs=50, batch_size=100,\n",
    "                  update_rule='adam',\n",
    "                  optim_config={\n",
    "                    'learning_rate': 5e-4,\n",
    "                  },\n",
    "                  verbose=True, print_every=100)\n",
    "  solver.train()\n",
    "  solvers[dropout] = solver\n",
    "\n",
    "train_accs = []\n",
    "val_accs = []\n",
    "for dropout in dropout_choices:\n",
    "  solver = solvers[dropout]\n",
    "  train_accs.append(solver.train_acc_history[-1])\n",
    "  val_accs.append(solver.val_acc_history[-1])\n",
    "\n",
    "plt.subplot(3, 1, 1)\n",
    "for dropout in dropout_choices:\n",
    "  plt.plot(solvers[dropout].train_acc_history, 'o', label='%.2f dropout' % dropout)\n",
    "plt.title('Train accuracy')\n",
    "plt.xlabel('Epoch')\n",
    "plt.ylabel('Accuracy')\n",
    "plt.legend(ncol=2, loc='lower right')\n",
    "  \n",
    "plt.subplot(3, 1, 2)\n",
    "for dropout in dropout_choices:\n",
    "  plt.plot(solvers[dropout].val_acc_history, 'o', label='%.2f dropout' % dropout)\n",
    "plt.title('Val accuracy')\n",
    "plt.xlabel('Epoch')\n",
    "plt.ylabel('Accuracy')\n",
    "plt.legend(ncol=2, loc='lower right')\n",
    "\n",
    "plt.gcf().set_size_inches(15, 15)\n",
    "plt.show()"
   ]
  },
  {
   "cell_type": "markdown",
   "metadata": {
    "deletable": true,
    "editable": true
   },
   "source": [
    "# Question\n",
    "Explain what you see in this experiment. What does it suggest about dropout?"
   ]
  },
  {
   "cell_type": "markdown",
   "metadata": {
    "deletable": true,
    "editable": true
   },
   "source": [
    "# Answer\n",
    "\n",
    "Dropout makes that the train accuracy increases slower, but it gets around the same point. For the validation accuracy,\n",
    "it makes it more noisy and it gets higher after a few epoch, but then regress to the same result as without dropout, so one\n",
    "needs early stopping with dropout or another regularization. \n",
    "Dropout makes the model less likely to overfit at first, but at some point, it will still overfit unless there is another\n",
    "regularizator.\n"
   ]
  },
  {
   "cell_type": "code",
   "execution_count": null,
   "metadata": {
    "collapsed": true
   },
   "outputs": [],
   "source": []
  }
 ],
 "metadata": {
  "kernelspec": {
   "display_name": "Python [default]",
   "language": "python",
   "name": "python3"
  },
  "language_info": {
   "codemirror_mode": {
    "name": "ipython",
    "version": 3
   },
   "file_extension": ".py",
   "mimetype": "text/x-python",
   "name": "python",
   "nbconvert_exporter": "python",
   "pygments_lexer": "ipython3",
   "version": "3.6.0"
  }
 },
 "nbformat": 4,
 "nbformat_minor": 0
}
